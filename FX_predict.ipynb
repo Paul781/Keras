{
 "cells": [
  {
   "cell_type": "code",
   "execution_count": 28,
   "metadata": {
    "collapsed": false
   },
   "outputs": [
    {
     "name": "stderr",
     "output_type": "stream",
     "text": [
      "/usr/local/lib/python2.7/dist-packages/requests/packages/urllib3/util/ssl_.py:132: InsecurePlatformWarning: A true SSLContext object is not available. This prevents urllib3 from configuring SSL appropriately and may cause certain SSL connections to fail. You can upgrade to a newer version of Python to solve this. For more information, see https://urllib3.readthedocs.io/en/latest/advanced-usage.html#ssl-warnings\n",
      "  InsecurePlatformWarning\n",
      "/usr/local/lib/python2.7/dist-packages/requests/packages/urllib3/util/ssl_.py:132: InsecurePlatformWarning: A true SSLContext object is not available. This prevents urllib3 from configuring SSL appropriately and may cause certain SSL connections to fail. You can upgrade to a newer version of Python to solve this. For more information, see https://urllib3.readthedocs.io/en/latest/advanced-usage.html#ssl-warnings\n",
      "  InsecurePlatformWarning\n"
     ]
    }
   ],
   "source": [
    "import quandl\n",
    "import numpy as np\n",
    "import types\n",
    "import pandas as pd \n",
    "quandl.ApiConfig.api_key = \"Xosv2zyeb3Dhzzx1g5nJ\"\n",
    "#data = quandl.get(\"CUR/CNY\", returns=\"numpy\")\n",
    "cny = quandl.get(\"CUR/CNY\", start_date=\"2016-01-01\", end_date=\"2017-01-01\", returns=\"numpy\")\n",
    "aud = quandl.get(\"CUR/AUD\", start_date=\"2016-01-01\", end_date=\"2017-01-01\", returns=\"numpy\")\n",
    "cny_aud=cny[:].RATE/aud[:].RATE\n",
    "dates=[]\n",
    "# print(data2[2].dtype)\n",
    "\n",
    "# df = pd.DataFrame(np_array)\n",
    "# df.to_csv(\"file_path.csv\")\n",
    "for row in cny:\n",
    "    dates.append(int(row[0].strftime('%Y%m%d')))\n",
    "df = pd.DataFrame({\"date\" : dates, \"rate\" : cny_aud})\n",
    "df.to_csv(\"cnyToaud.csv\", index=False)    \n",
    "#print(data2[['RATE']]/data[['RATE']])"
   ]
  },
  {
   "cell_type": "code",
   "execution_count": 30,
   "metadata": {
    "collapsed": false
   },
   "outputs": [
    {
     "name": "stderr",
     "output_type": "stream",
     "text": [
      "/usr/local/lib/python2.7/dist-packages/ipykernel/__main__.py:105: UserWarning: The `input_dim` and `input_length` arguments in recurrent layers are deprecated. Use `input_shape` instead.\n",
      "/usr/local/lib/python2.7/dist-packages/ipykernel/__main__.py:105: UserWarning: Update your `LSTM` call to the Keras 2 API: `LSTM(units=50, return_sequences=True, input_shape=(None, 1))`\n",
      "/usr/local/lib/python2.7/dist-packages/ipykernel/__main__.py:111: UserWarning: Update your `Dense` call to the Keras 2 API: `Dense(units=1)`\n"
     ]
    },
    {
     "name": "stdout",
     "output_type": "stream",
     "text": [
      "Training ------------\n",
      "Epoch 1/1\n",
      "50/50 [==============================] - 0s - loss: 4.6804      \b\b\b\b\b\b\b\b\b\b\b\b\b\b\b\b\b\b\b\b\b\b\b\b\b\b\b\b\b\b\b\b\b\b\b\b\b\b\b\b\b\b\b\b\b\b\b\b\b\b\b\b\b\b\b\b\b\b\b\b\b\b\b\b\b\b\b\b\b\b\b\b\b\b\b\b\b\b\b\b\b\b\b\b\b\b\b\b\b\b\b\b\b\b\b\b\b\b\b\b\b\b\b\b\b\b\b\b\b\b\b\b\b\b\b\b\b\b\b\b\b\b\b\b\b\b\b\b\b\b\b\b\b\b\b\b\b\b\b\b\b\b\b\b\b\b\b\b\b\b\b\b\b\b\b\b\b\b\b\b\b\b\b\b\b\b\b\b\b\b\b\b\b\b\b\b\b\b\b\b\b\b\b\b\b\b\b\b\b\b\b\b\b\b\b\b\b\b\b\b\b\b\b\b\b\b\b\b\b\b\b\b\b\b\b\b\b\b\b\b\b\b\b\b\b\b\b\b\b\b\b\b\b\b\b\b\b\b\b\b\b\b\b\b\b\b\b\b\b\b\b\b\b\b\b\b\b\b\b\b\b\b\b\b\b\b\b\b\b\b\b\b\b\b\b\b\b\b\b\b\b\b\b\b\b\b\b\b\b\b\b\b\b\b\b\b\b\b\b\b\b\b\b\b\b\b\b\b\b\b\b\b\b\b\b\b\b\b\b\b\b\b\b\b\b\b\b\b\b\b\b\b\b\b\b\b\b\b\b\b\b\b\b\b\b\b\b\b\b\b\b\b\b\b\b\b\b\b\b\b\b\b\b\b\b\b\b\b\b\b\b\b\b\b\b\b\b\b\b\b\b\b\b\b\b\b\b\b\b\b\b\b\b\b\b\b\b\b\b\b\b\b\b\b\b\b\b\b\b\b\b\b\b\b\b\b\b\b\b\b\b\b\b\b\b\b\b\b\b\b\b\b\b\b\b\b\b\b\b\b\b\b\b\b\b\b\b\b\b\b\b\b\b\b\b\b\b\b\b\b\b\b\b\b\b\b\b\b\b\b\b\b\b\b\b\b\b\b\b\b\b\b\b\b\b\b\b\b\b\b\b\b\b\b\b\b\b\b\b\b\b\b\b\b\b\b\b\b\b\b\b\b\b\b\b\b\b\b\b\b\b\b\b\b\b\b\b\b\b\b\b\b\b\b\b\b\b\b\b\b\b\b\b\b\b\b\b\b\b\b\b\b\b\b\b\b\b\b\b\b\b\b\b\b\b\b\b\b\b\b\b\b\b\b\b\b\b\b\b\b\b\b\b\b\b\b\b\b\b\b\b\b\b\b\b\b\b\b\b\b\b\b\b\b\b\b\b\b\b\b\b\b\b\b\b\b\b\b\b\b\b\b\b\b\b\b\b\b\b\b\b\b\b\b\b\n",
      "[[ 4.67653275]]\n"
     ]
    },
    {
     "name": "stderr",
     "output_type": "stream",
     "text": [
      "/usr/local/lib/python2.7/dist-packages/requests/packages/urllib3/util/ssl_.py:132: InsecurePlatformWarning: A true SSLContext object is not available. This prevents urllib3 from configuring SSL appropriately and may cause certain SSL connections to fail. You can upgrade to a newer version of Python to solve this. For more information, see https://urllib3.readthedocs.io/en/latest/advanced-usage.html#ssl-warnings\n",
      "  InsecurePlatformWarning\n",
      "/usr/local/lib/python2.7/dist-packages/requests/packages/urllib3/util/ssl_.py:132: InsecurePlatformWarning: A true SSLContext object is not available. This prevents urllib3 from configuring SSL appropriately and may cause certain SSL connections to fail. You can upgrade to a newer version of Python to solve this. For more information, see https://urllib3.readthedocs.io/en/latest/advanced-usage.html#ssl-warnings\n",
      "  InsecurePlatformWarning\n"
     ]
    },
    {
     "name": "stdout",
     "output_type": "stream",
     "text": [
      "[ 5.22083497]\n"
     ]
    }
   ],
   "source": [
    "import numpy as np\n",
    "import pandas as pd \n",
    "import os\n",
    "os.environ['KERAS_BACKEND']='theano'\n",
    "import types\n",
    "import quandl\n",
    "from sklearn.svm import SVR\n",
    "from sklearn.linear_model import LinearRegression\n",
    "from keras.models import Sequential\n",
    "from keras.layers import Dense, Activation, LSTM, TimeDistributed, Dropout\n",
    "from keras.optimizers import Adam\n",
    "\n",
    "TIME_STEPS = 6\n",
    "BATCH_SIZE = 1\n",
    "INPUT_SIZE = 1\n",
    "OUTPUT_SIZE = 1\n",
    "CELL_SIZE = 20\n",
    "LR = 0.006\n",
    "\n",
    "quandl.ApiConfig.api_key = \"Xosv2zyeb3Dhzzx1g5nJ\"\n",
    "dates = []\n",
    "prices = []\n",
    "\n",
    "data = pd.read_csv('cnyToaud.csv')\n",
    "dates=data['date'].tolist()\n",
    "prices=data['rate'].tolist()\n",
    "bench= np.ones(len(dates), dtype=np.int)*20160101\n",
    "dates=dates-bench\n",
    "# print(dates)\n",
    "# print(prices)\n",
    "def predict_price(dates, prices, x):\n",
    "    dates = np.reshape(dates,(len(dates), 1)) # converting to matrix of n X 1\n",
    "    svr_rbf = SVR(kernel= 'rbf', C= 1e3, gamma= 0.1) # defining the support vector regression models\n",
    "    svr_rbf.fit(dates, prices) # fitting the data points in the models\n",
    "    return svr_rbf.predict(x)\n",
    "\n",
    "def liner_predict(dates, prices, x):\n",
    "    dates = np.reshape(dates,(len(dates), 1))\n",
    "    model = LinearRegression()\n",
    "    model.fit(dates, prices)\n",
    "    return model.predict(x)\n",
    "\n",
    "def nn_predict(dates, prices,x):\n",
    "    dates=np.array(dates)\n",
    "    prices=np.array(prices)\n",
    "    x=np.array(x)\n",
    "    X_train, Y_train = dates[:317], prices[:317]    \n",
    "    X_test, Y_test = dates[317:], prices[317:]       \n",
    "    # build a neural network from the 1st layer to the last layer\n",
    "    model = Sequential()\n",
    "    model.add(Dense(output_dim=10, input_dim=1))\n",
    "#     model.add(Activation('tanh'))\n",
    "#     model.add(Dense(output_dim=10, input_dim=10))\n",
    "    model.add(Activation('tanh'))\n",
    "    model.add(Dense(output_dim=1))\n",
    "    # choose loss function and optimizing method\n",
    "    model.compile(loss='mse', optimizer='adam') #sgd RMSprop Adam\n",
    "    # training\n",
    "    print('Training -----------')\n",
    "    for step in range(10000):\n",
    "        cost = model.train_on_batch(dates, prices)\n",
    "        if step % 1000 == 0:\n",
    "            print('train cost: ', cost)\n",
    "    # test\n",
    "#     print('\\nTesting ------------')\n",
    "#     cost = model.evaluate(X_test, Y_test, batch_size=50)\n",
    "#     print('test cost:', cost)\n",
    "#     W, b = model.layers[0].get_weights()\n",
    "#     print('Weights=', W, '\\nbiases=', b)\n",
    "    return model.predict(x)\n",
    "def get_batch(train):\n",
    "    result = np.array(train)\n",
    "    result = np.reshape(train[:6*50],(50, 6))\n",
    "#     if normalise_window:\n",
    "#         result = normalise_windows(result) \n",
    "#     row = round(0.9 * result.shape[0])\n",
    "#     train = result[:int(row), :]\n",
    "#     np.random.shuffle(train)\n",
    "    x_train = result[:, :-1]\n",
    "    y_train = result[:, -1]\n",
    "# seq[:, :, np.newaxis], res[:, :, np.newaxis]\n",
    "#     x_train = np.reshape(x_train, (x_train.shape[0], x_train.shape[1], 1))\n",
    "#     x_test = np.reshape(x_test, (x_test.shape[0], x_test.shape[1], 1))  \n",
    "#     return [x_train, y_train]\n",
    "    return [x_train[:, :, np.newaxis], y_train]\n",
    "\n",
    "def LSTM_predict( prices, x):\n",
    "    model = Sequential()\n",
    "    # build a LSTM RNN\n",
    "#     model.add(LSTM(\n",
    "#         batch_input_shape=(BATCH_SIZE, TIME_STEPS-1, INPUT_SIZE),\n",
    "#         output_dim=CELL_SIZE,\n",
    "#         return_sequences=False,      # True: output at all steps. False: output as last step.\n",
    "#         stateful=True,              # True: the final state of batch1 is feed into the initial state of batch2\n",
    "#     ))\n",
    "#     # add output layer\n",
    "# #     model.add(TimeDistributed(Dense(OUTPUT_SIZE)))\n",
    "#     model.add(Dense(OUTPUT_SIZE))\n",
    "#     adam = Adam(LR)\n",
    "#     model.compile(optimizer=adam,loss='mse')\n",
    "    \n",
    "    model.add(LSTM(\n",
    "    input_dim=1,\n",
    "    output_dim=50,\n",
    "    return_sequences=True))\n",
    "    model.add(Dropout(0.2))\n",
    "\n",
    "    model.add(LSTM(100,return_sequences=False))\n",
    "    model.add(Dropout(0.2))\n",
    "\n",
    "    model.add(Dense(output_dim=1))\n",
    "    model.add(Activation('linear'))\n",
    "\n",
    "    model.compile(loss='mse', optimizer='adam')\n",
    "    print('Training ------------')\n",
    "#     for step in range(501):\n",
    "#         X_batch, Y_batch = get_batch(prices)\n",
    "#         cost = model.train_on_batch(X_batch, Y_batch)\n",
    "#         if step % 10 == 0:\n",
    "#             print('train cost: ', cost)\n",
    "    X_batch, Y_batch = get_batch(prices)\n",
    "    model.fit(X_batch, Y_batch, nb_epoch=1, batch_size=1,)        \n",
    "    x=np.array(x).reshape((BATCH_SIZE, TIME_STEPS-1, INPUT_SIZE))\n",
    "    pred = model.predict(x,BATCH_SIZE)\n",
    "    return pred\n",
    "    \n",
    "# predicted_price = predict_price(dates, prices, 20170404)  \n",
    "# print(predicted_price)\n",
    "# predicted_price = liner_predict(dates, prices, 20170404) \n",
    "# print(predicted_price)\n",
    "# predicted_price = nn_predict(dates, prices,[911,10000,10303,10304,]) #20170404-20160101\n",
    "# print(predicted_price)\n",
    "predicted_price = LSTM_predict(prices,[10301,10302,10303,10304,10305]) #20170404-20160101\n",
    "print(predicted_price)\n",
    "last_data = quandl.get(\"CUR/CNY\", rows=1, returns=\"numpy\").RATE/quandl.get(\"CUR/AUD\", rows=1, returns=\"numpy\").RATE\n",
    "print(last_data)"
   ]
  },
  {
   "cell_type": "code",
   "execution_count": null,
   "metadata": {
    "collapsed": true
   },
   "outputs": [],
   "source": []
  },
  {
   "cell_type": "code",
   "execution_count": null,
   "metadata": {
    "collapsed": true
   },
   "outputs": [],
   "source": []
  }
 ],
 "metadata": {
  "kernelspec": {
   "display_name": "Python 2",
   "language": "python",
   "name": "python2"
  },
  "language_info": {
   "codemirror_mode": {
    "name": "ipython",
    "version": 2
   },
   "file_extension": ".py",
   "mimetype": "text/x-python",
   "name": "python",
   "nbconvert_exporter": "python",
   "pygments_lexer": "ipython2",
   "version": "2.7.6"
  }
 },
 "nbformat": 4,
 "nbformat_minor": 2
}
